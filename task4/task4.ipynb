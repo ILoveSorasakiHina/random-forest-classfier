{
 "cells": [
  {
   "cell_type": "markdown",
   "id": "f9218c38-c997-4e57-8776-f7126abdd81d",
   "metadata": {
    "id": "f9218c38-c997-4e57-8776-f7126abdd81d"
   },
   "source": [
    "### National Chengchi University\n",
    "### Department of Computer Science\n",
    "### Introduction to Machine Learning\n",
    "#### Term Project 2023\n",
    "#### Simple Example\n",
    "####\n",
    "#### prepared by Chao-Lin Liu\n",
    "#### Date: 22 November 2023"
   ]
  },
  {
   "cell_type": "code",
   "execution_count": 6,
   "id": "c0cc2bbf-0aa4-4384-8c95-0a3d150065c7",
   "metadata": {
    "id": "c0cc2bbf-0aa4-4384-8c95-0a3d150065c7"
   },
   "outputs": [],
   "source": [
    "# 參考網址：https://scikit-learn.org/stable/modules/tree.html\n",
    "# 參考網址：https://scikit-learn.org/stable/modules/generated/sklearn.tree.DecisionTreeClassifier.html"
   ]
  },
  {
   "cell_type": "code",
   "execution_count": 5,
   "id": "ef1602db-df07-4f8f-93a4-1cbe57d2f71e",
   "metadata": {
    "id": "ef1602db-df07-4f8f-93a4-1cbe57d2f71e"
   },
   "outputs": [],
   "source": [
    "# !pip install scikit-learn"
   ]
  },
  {
   "cell_type": "code",
   "execution_count": 4,
   "id": "1a455429",
   "metadata": {},
   "outputs": [],
   "source": [
    "# 升級 imbalanced-learn\n",
    "#!pip install --upgrade imbalanced-learn\n"
   ]
  },
  {
   "cell_type": "code",
   "execution_count": 37,
   "id": "13438c57-a2b8-4fe5-8072-6e1d16423e51",
   "metadata": {
    "id": "13438c57-a2b8-4fe5-8072-6e1d16423e51"
   },
   "outputs": [],
   "source": [
    "import numpy as np\n",
    "import pandas as pd\n",
    "from sklearn.impute import SimpleImputer\n",
    "from imblearn.over_sampling import SMOTE\n",
    "from sklearn.ensemble import RandomForestClassifier\n",
    "from sklearn.model_selection import GridSearchCV\n",
    "from sklearn.feature_selection import SelectFromModel"
   ]
  },
  {
   "cell_type": "code",
   "execution_count": 38,
   "id": "b244f6f0-b23b-483b-8c32-989f7daa46ea",
   "metadata": {
    "id": "b244f6f0-b23b-483b-8c32-989f7daa46ea",
    "tags": []
   },
   "outputs": [],
   "source": [
    "trainfile = 'training_data.csv'\n",
    "testfile = 'testing_data.csv'\n",
    "# testanswers = 'test_nov28_task1_features_answers.csv'"
   ]
  },
  {
   "cell_type": "code",
   "execution_count": 39,
   "id": "1100dfe7-61b1-404f-8e97-ba9aa63f55b1",
   "metadata": {
    "id": "1100dfe7-61b1-404f-8e97-ba9aa63f55b1",
    "outputId": "6eafffda-baeb-407f-b98a-9b4cb8cabc44",
    "scrolled": true,
    "tags": []
   },
   "outputs": [
    {
     "data": {
      "text/html": [
       "<div>\n",
       "<style scoped>\n",
       "    .dataframe tbody tr th:only-of-type {\n",
       "        vertical-align: middle;\n",
       "    }\n",
       "\n",
       "    .dataframe tbody tr th {\n",
       "        vertical-align: top;\n",
       "    }\n",
       "\n",
       "    .dataframe thead th {\n",
       "        text-align: right;\n",
       "    }\n",
       "</style>\n",
       "<table border=\"1\" class=\"dataframe\">\n",
       "  <thead>\n",
       "    <tr style=\"text-align: right;\">\n",
       "      <th></th>\n",
       "      <th>id</th>\n",
       "      <th>x0</th>\n",
       "      <th>x2</th>\n",
       "      <th>x3</th>\n",
       "      <th>x4</th>\n",
       "      <th>x5</th>\n",
       "      <th>x6</th>\n",
       "      <th>x7</th>\n",
       "      <th>x8</th>\n",
       "      <th>x9</th>\n",
       "      <th>x10</th>\n",
       "      <th>x11</th>\n",
       "      <th>x12</th>\n",
       "      <th>x13</th>\n",
       "      <th>x14</th>\n",
       "      <th>label</th>\n",
       "    </tr>\n",
       "  </thead>\n",
       "  <tbody>\n",
       "    <tr>\n",
       "      <th>0</th>\n",
       "      <td>0</td>\n",
       "      <td>20.425</td>\n",
       "      <td>-1.652</td>\n",
       "      <td>0.316</td>\n",
       "      <td>-0.314</td>\n",
       "      <td>-0.369</td>\n",
       "      <td>1.042</td>\n",
       "      <td>-0.129</td>\n",
       "      <td>1.388</td>\n",
       "      <td>-0.262</td>\n",
       "      <td>0.103</td>\n",
       "      <td>-0.453</td>\n",
       "      <td>1.317</td>\n",
       "      <td>0.204</td>\n",
       "      <td>0.127</td>\n",
       "      <td>G</td>\n",
       "    </tr>\n",
       "    <tr>\n",
       "      <th>1</th>\n",
       "      <td>1</td>\n",
       "      <td>-13.343</td>\n",
       "      <td>-8.962</td>\n",
       "      <td>-0.472</td>\n",
       "      <td>0.729</td>\n",
       "      <td>-1.480</td>\n",
       "      <td>-2.592</td>\n",
       "      <td>NaN</td>\n",
       "      <td>2.000</td>\n",
       "      <td>1.000</td>\n",
       "      <td>1.040</td>\n",
       "      <td>0.242</td>\n",
       "      <td>0.949</td>\n",
       "      <td>-2.607</td>\n",
       "      <td>0.119</td>\n",
       "      <td>F</td>\n",
       "    </tr>\n",
       "    <tr>\n",
       "      <th>2</th>\n",
       "      <td>2</td>\n",
       "      <td>-7.947</td>\n",
       "      <td>16.805</td>\n",
       "      <td>NaN</td>\n",
       "      <td>0.509</td>\n",
       "      <td>NaN</td>\n",
       "      <td>0.918</td>\n",
       "      <td>NaN</td>\n",
       "      <td>5.000</td>\n",
       "      <td>4.000</td>\n",
       "      <td>1.011</td>\n",
       "      <td>-0.145</td>\n",
       "      <td>0.114</td>\n",
       "      <td>0.149</td>\n",
       "      <td>-0.219</td>\n",
       "      <td>A</td>\n",
       "    </tr>\n",
       "    <tr>\n",
       "      <th>3</th>\n",
       "      <td>3</td>\n",
       "      <td>-2.933</td>\n",
       "      <td>-2.210</td>\n",
       "      <td>NaN</td>\n",
       "      <td>-0.112</td>\n",
       "      <td>0.368</td>\n",
       "      <td>-0.788</td>\n",
       "      <td>-0.016</td>\n",
       "      <td>-1.628</td>\n",
       "      <td>-1.035</td>\n",
       "      <td>NaN</td>\n",
       "      <td>-0.521</td>\n",
       "      <td>1.492</td>\n",
       "      <td>-0.404</td>\n",
       "      <td>0.032</td>\n",
       "      <td>L</td>\n",
       "    </tr>\n",
       "    <tr>\n",
       "      <th>4</th>\n",
       "      <td>4</td>\n",
       "      <td>NaN</td>\n",
       "      <td>-13.014</td>\n",
       "      <td>-1.427</td>\n",
       "      <td>-0.349</td>\n",
       "      <td>NaN</td>\n",
       "      <td>-2.207</td>\n",
       "      <td>1.593</td>\n",
       "      <td>3.000</td>\n",
       "      <td>3.000</td>\n",
       "      <td>-0.135</td>\n",
       "      <td>0.006</td>\n",
       "      <td>NaN</td>\n",
       "      <td>0.222</td>\n",
       "      <td>0.100</td>\n",
       "      <td>B</td>\n",
       "    </tr>\n",
       "  </tbody>\n",
       "</table>\n",
       "</div>"
      ],
      "text/plain": [
       "   id      x0      x2     x3     x4     x5     x6     x7     x8     x9    x10  \\\n",
       "0   0  20.425  -1.652  0.316 -0.314 -0.369  1.042 -0.129  1.388 -0.262  0.103   \n",
       "1   1 -13.343  -8.962 -0.472  0.729 -1.480 -2.592    NaN  2.000  1.000  1.040   \n",
       "2   2  -7.947  16.805    NaN  0.509    NaN  0.918    NaN  5.000  4.000  1.011   \n",
       "3   3  -2.933  -2.210    NaN -0.112  0.368 -0.788 -0.016 -1.628 -1.035    NaN   \n",
       "4   4     NaN -13.014 -1.427 -0.349    NaN -2.207  1.593  3.000  3.000 -0.135   \n",
       "\n",
       "     x11    x12    x13    x14 label  \n",
       "0 -0.453  1.317  0.204  0.127     G  \n",
       "1  0.242  0.949 -2.607  0.119     F  \n",
       "2 -0.145  0.114  0.149 -0.219     A  \n",
       "3 -0.521  1.492 -0.404  0.032     L  \n",
       "4  0.006    NaN  0.222  0.100     B  "
      ]
     },
     "execution_count": 39,
     "metadata": {},
     "output_type": "execute_result"
    }
   ],
   "source": [
    "# 讀入訓練資料檔案\n",
    "df = pd.read_csv(trainfile)\n",
    "df = df.drop('x1', axis=1)\n",
    "df[0:5]"
   ]
  },
  {
   "cell_type": "code",
   "execution_count": 40,
   "id": "ad78c2d9-7f9f-403c-bbe0-857ae465a823",
   "metadata": {
    "id": "ad78c2d9-7f9f-403c-bbe0-857ae465a823",
    "outputId": "6e3fd42a-b41e-4693-8d92-714ed5e18716",
    "tags": []
   },
   "outputs": [
    {
     "data": {
      "text/html": [
       "<div>\n",
       "<style scoped>\n",
       "    .dataframe tbody tr th:only-of-type {\n",
       "        vertical-align: middle;\n",
       "    }\n",
       "\n",
       "    .dataframe tbody tr th {\n",
       "        vertical-align: top;\n",
       "    }\n",
       "\n",
       "    .dataframe thead th {\n",
       "        text-align: right;\n",
       "    }\n",
       "</style>\n",
       "<table border=\"1\" class=\"dataframe\">\n",
       "  <thead>\n",
       "    <tr style=\"text-align: right;\">\n",
       "      <th></th>\n",
       "      <th>x0</th>\n",
       "      <th>x2</th>\n",
       "      <th>x3</th>\n",
       "      <th>x4</th>\n",
       "      <th>x5</th>\n",
       "      <th>x6</th>\n",
       "      <th>x7</th>\n",
       "      <th>x8</th>\n",
       "      <th>x9</th>\n",
       "      <th>x10</th>\n",
       "      <th>x11</th>\n",
       "      <th>x12</th>\n",
       "      <th>x13</th>\n",
       "      <th>x14</th>\n",
       "    </tr>\n",
       "  </thead>\n",
       "  <tbody>\n",
       "    <tr>\n",
       "      <th>0</th>\n",
       "      <td>20.425</td>\n",
       "      <td>-1.652</td>\n",
       "      <td>0.316</td>\n",
       "      <td>-0.314</td>\n",
       "      <td>-0.369</td>\n",
       "      <td>1.042</td>\n",
       "      <td>-0.129</td>\n",
       "      <td>1.388</td>\n",
       "      <td>-0.262</td>\n",
       "      <td>0.103</td>\n",
       "      <td>-0.453</td>\n",
       "      <td>1.317</td>\n",
       "      <td>0.204</td>\n",
       "      <td>0.127</td>\n",
       "    </tr>\n",
       "    <tr>\n",
       "      <th>1</th>\n",
       "      <td>-13.343</td>\n",
       "      <td>-8.962</td>\n",
       "      <td>-0.472</td>\n",
       "      <td>0.729</td>\n",
       "      <td>-1.480</td>\n",
       "      <td>-2.592</td>\n",
       "      <td>NaN</td>\n",
       "      <td>2.000</td>\n",
       "      <td>1.000</td>\n",
       "      <td>1.040</td>\n",
       "      <td>0.242</td>\n",
       "      <td>0.949</td>\n",
       "      <td>-2.607</td>\n",
       "      <td>0.119</td>\n",
       "    </tr>\n",
       "    <tr>\n",
       "      <th>2</th>\n",
       "      <td>-7.947</td>\n",
       "      <td>16.805</td>\n",
       "      <td>NaN</td>\n",
       "      <td>0.509</td>\n",
       "      <td>NaN</td>\n",
       "      <td>0.918</td>\n",
       "      <td>NaN</td>\n",
       "      <td>5.000</td>\n",
       "      <td>4.000</td>\n",
       "      <td>1.011</td>\n",
       "      <td>-0.145</td>\n",
       "      <td>0.114</td>\n",
       "      <td>0.149</td>\n",
       "      <td>-0.219</td>\n",
       "    </tr>\n",
       "    <tr>\n",
       "      <th>3</th>\n",
       "      <td>-2.933</td>\n",
       "      <td>-2.210</td>\n",
       "      <td>NaN</td>\n",
       "      <td>-0.112</td>\n",
       "      <td>0.368</td>\n",
       "      <td>-0.788</td>\n",
       "      <td>-0.016</td>\n",
       "      <td>-1.628</td>\n",
       "      <td>-1.035</td>\n",
       "      <td>NaN</td>\n",
       "      <td>-0.521</td>\n",
       "      <td>1.492</td>\n",
       "      <td>-0.404</td>\n",
       "      <td>0.032</td>\n",
       "    </tr>\n",
       "    <tr>\n",
       "      <th>4</th>\n",
       "      <td>NaN</td>\n",
       "      <td>-13.014</td>\n",
       "      <td>-1.427</td>\n",
       "      <td>-0.349</td>\n",
       "      <td>NaN</td>\n",
       "      <td>-2.207</td>\n",
       "      <td>1.593</td>\n",
       "      <td>3.000</td>\n",
       "      <td>3.000</td>\n",
       "      <td>-0.135</td>\n",
       "      <td>0.006</td>\n",
       "      <td>NaN</td>\n",
       "      <td>0.222</td>\n",
       "      <td>0.100</td>\n",
       "    </tr>\n",
       "  </tbody>\n",
       "</table>\n",
       "</div>"
      ],
      "text/plain": [
       "       x0      x2     x3     x4     x5     x6     x7     x8     x9    x10  \\\n",
       "0  20.425  -1.652  0.316 -0.314 -0.369  1.042 -0.129  1.388 -0.262  0.103   \n",
       "1 -13.343  -8.962 -0.472  0.729 -1.480 -2.592    NaN  2.000  1.000  1.040   \n",
       "2  -7.947  16.805    NaN  0.509    NaN  0.918    NaN  5.000  4.000  1.011   \n",
       "3  -2.933  -2.210    NaN -0.112  0.368 -0.788 -0.016 -1.628 -1.035    NaN   \n",
       "4     NaN -13.014 -1.427 -0.349    NaN -2.207  1.593  3.000  3.000 -0.135   \n",
       "\n",
       "     x11    x12    x13    x14  \n",
       "0 -0.453  1.317  0.204  0.127  \n",
       "1  0.242  0.949 -2.607  0.119  \n",
       "2 -0.145  0.114  0.149 -0.219  \n",
       "3 -0.521  1.492 -0.404  0.032  \n",
       "4  0.006    NaN  0.222  0.100  "
      ]
     },
     "execution_count": 40,
     "metadata": {},
     "output_type": "execute_result"
    }
   ],
   "source": [
    "# 取用 features\n",
    "features_list = ['x0','x2','x3','x4','x5','x6','x7','x8','x9',\"x10\",\"x11\",\"x12\",\"x13\",'x14']\n",
    "features = df[features_list]\n",
    "features[0:5]"
   ]
  },
  {
   "cell_type": "code",
   "execution_count": 41,
   "id": "e2e069ff",
   "metadata": {},
   "outputs": [],
   "source": [
    "# 處理缺失值\n",
    "imp = SimpleImputer(strategy=\"mean\")\n",
    "features = imp.fit_transform(features)"
   ]
  },
  {
   "cell_type": "code",
   "execution_count": 42,
   "id": "a1ab2442-cc81-40df-a9c7-0764a8291b2f",
   "metadata": {
    "id": "a1ab2442-cc81-40df-a9c7-0764a8291b2f",
    "tags": []
   },
   "outputs": [],
   "source": [
    "# 取用 答案類別\n",
    "targets = ['label']\n",
    "labels = df[targets]"
   ]
  },
  {
   "cell_type": "code",
   "execution_count": 43,
   "id": "ba4c03d2",
   "metadata": {},
   "outputs": [],
   "source": [
    "# 檢查 features 中是否有 NaN 或無窮大的數值\n",
    "if not np.all(np.isfinite(features)):\n",
    "    # 如果有，使用 SimpleImputer 來填充這些值\n",
    "    imp = SimpleImputer(strategy=\"mean\")\n",
    "    features = imp.fit_transform(features)\n",
    "\n",
    "# 使用 pandas 的 isnull() 函數來檢查 DataFrame 中的 NaN 值\n",
    "if labels.isnull().values.any():\n",
    "    # 移除含有 NaN 的行\n",
    "    labels = labels.dropna()"
   ]
  },
  {
   "cell_type": "code",
   "execution_count": 44,
   "id": "b8994bce",
   "metadata": {},
   "outputs": [],
   "source": [
    "# 特徵選擇\n",
    "sel = SelectFromModel(RandomForestClassifier(n_estimators = 100))\n",
    "sel.fit(features, labels.values.ravel())\n",
    "selected_feat= [f for (f, s) in zip(features_list, sel.get_support()) if s]\n",
    "features = df[selected_feat]"
   ]
  },
  {
   "cell_type": "code",
   "execution_count": 45,
   "id": "121a127f",
   "metadata": {},
   "outputs": [
    {
     "name": "stdout",
     "output_type": "stream",
     "text": [
      "Invalid values detected in features:\n",
      "(array([   2,    2,    3, ..., 8932, 8935, 8936], dtype=int64), array([2, 4, 2, ..., 2, 0, 4], dtype=int64))\n",
      "All invalid values in features have been successfully imputed.\n"
     ]
    }
   ],
   "source": [
    "# 檢查 features 中是否有 NaN 或無窮大的數值\n",
    "if not np.all(np.isfinite(features)):\n",
    "    print(\"Invalid values detected in features:\")\n",
    "    print(np.where(~np.isfinite(features)))\n",
    "\n",
    "    # 如果有，使用 SimpleImputer 來填充這些值\n",
    "    imp = SimpleImputer(strategy=\"mean\")\n",
    "    features = imp.fit_transform(features)\n",
    "\n",
    "    # 再次檢查 features 中是否有 NaN 或無窮大的數值\n",
    "    if not np.all(np.isfinite(features)):\n",
    "        print(\"Invalid values still present in features after imputation:\")\n",
    "        print(np.where(~np.isfinite(features)))\n",
    "    else:\n",
    "        print(\"All invalid values in features have been successfully imputed.\")"
   ]
  },
  {
   "cell_type": "code",
   "execution_count": 46,
   "id": "5bc62fa5",
   "metadata": {},
   "outputs": [],
   "source": [
    "# 處理不平衡的資料集\n",
    "sm = SMOTE(random_state=42)\n",
    "features, labels = sm.fit_resample(features, labels.values.ravel())\n"
   ]
  },
  {
   "cell_type": "code",
   "execution_count": 47,
   "id": "177bda0c-b3cf-440b-a876-aaf80a72b263",
   "metadata": {
    "id": "177bda0c-b3cf-440b-a876-aaf80a72b263",
    "tags": []
   },
   "outputs": [],
   "source": [
    "# 使用隨機森林分類器\n",
    "clf = RandomForestClassifier(n_estimators=100)\n"
   ]
  },
  {
   "cell_type": "code",
   "execution_count": 48,
   "id": "c95897b0",
   "metadata": {},
   "outputs": [],
   "source": [
    "param_grid = {\n",
    "    'n_estimators': [100, 200, 300, 400],\n",
    "    'max_depth': [None, 10, 20, 30],\n",
    "    'min_samples_split': [2, 5, 10]\n",
    "}\n"
   ]
  },
  {
   "cell_type": "code",
   "execution_count": 49,
   "id": "f3333924",
   "metadata": {},
   "outputs": [],
   "source": [
    "# 初始化 GridSearchCV\n",
    "grid_search = GridSearchCV(estimator=clf, param_grid=param_grid, cv=3, n_jobs=-1)"
   ]
  },
  {
   "cell_type": "code",
   "execution_count": null,
   "id": "74b8c3f2-adbb-444f-99db-4e4fa513a9b4",
   "metadata": {
    "id": "74b8c3f2-adbb-444f-99db-4e4fa513a9b4",
    "tags": []
   },
   "outputs": [],
   "source": [
    "# 進行訓練\n",
    "grid_search.fit(features, labels)\n"
   ]
  },
  {
   "cell_type": "code",
   "execution_count": 32,
   "id": "22f6f420-fcc6-4c07-8273-8646d29b8f41",
   "metadata": {
    "id": "22f6f420-fcc6-4c07-8273-8646d29b8f41",
    "tags": []
   },
   "outputs": [
    {
     "data": {
      "text/html": [
       "<div>\n",
       "<style scoped>\n",
       "    .dataframe tbody tr th:only-of-type {\n",
       "        vertical-align: middle;\n",
       "    }\n",
       "\n",
       "    .dataframe tbody tr th {\n",
       "        vertical-align: top;\n",
       "    }\n",
       "\n",
       "    .dataframe thead th {\n",
       "        text-align: right;\n",
       "    }\n",
       "</style>\n",
       "<table border=\"1\" class=\"dataframe\">\n",
       "  <thead>\n",
       "    <tr style=\"text-align: right;\">\n",
       "      <th></th>\n",
       "      <th>id</th>\n",
       "      <th>x0</th>\n",
       "      <th>x2</th>\n",
       "      <th>x3</th>\n",
       "      <th>x4</th>\n",
       "      <th>x5</th>\n",
       "      <th>x6</th>\n",
       "      <th>x7</th>\n",
       "      <th>x8</th>\n",
       "      <th>x9</th>\n",
       "      <th>x10</th>\n",
       "      <th>x11</th>\n",
       "      <th>x12</th>\n",
       "      <th>x13</th>\n",
       "      <th>x14</th>\n",
       "    </tr>\n",
       "  </thead>\n",
       "  <tbody>\n",
       "    <tr>\n",
       "      <th>0</th>\n",
       "      <td>6976</td>\n",
       "      <td>NaN</td>\n",
       "      <td>NaN</td>\n",
       "      <td>-0.085</td>\n",
       "      <td>1.515</td>\n",
       "      <td>NaN</td>\n",
       "      <td>-3.207</td>\n",
       "      <td>-0.492</td>\n",
       "      <td>NaN</td>\n",
       "      <td>NaN</td>\n",
       "      <td>-0.663</td>\n",
       "      <td>NaN</td>\n",
       "      <td>-0.290</td>\n",
       "      <td>NaN</td>\n",
       "      <td>0.746</td>\n",
       "    </tr>\n",
       "    <tr>\n",
       "      <th>1</th>\n",
       "      <td>11281</td>\n",
       "      <td>20.933</td>\n",
       "      <td>-3.532</td>\n",
       "      <td>NaN</td>\n",
       "      <td>-0.577</td>\n",
       "      <td>-0.574</td>\n",
       "      <td>NaN</td>\n",
       "      <td>0.374</td>\n",
       "      <td>NaN</td>\n",
       "      <td>NaN</td>\n",
       "      <td>-0.481</td>\n",
       "      <td>0.073</td>\n",
       "      <td>-0.942</td>\n",
       "      <td>0.185</td>\n",
       "      <td>0.502</td>\n",
       "    </tr>\n",
       "    <tr>\n",
       "      <th>2</th>\n",
       "      <td>8387</td>\n",
       "      <td>-4.319</td>\n",
       "      <td>19.723</td>\n",
       "      <td>-1.067</td>\n",
       "      <td>NaN</td>\n",
       "      <td>NaN</td>\n",
       "      <td>NaN</td>\n",
       "      <td>-0.351</td>\n",
       "      <td>0.648</td>\n",
       "      <td>0.158</td>\n",
       "      <td>0.415</td>\n",
       "      <td>-0.530</td>\n",
       "      <td>-0.213</td>\n",
       "      <td>0.084</td>\n",
       "      <td>0.329</td>\n",
       "    </tr>\n",
       "    <tr>\n",
       "      <th>3</th>\n",
       "      <td>1320</td>\n",
       "      <td>-3.867</td>\n",
       "      <td>19.948</td>\n",
       "      <td>NaN</td>\n",
       "      <td>0.176</td>\n",
       "      <td>0.670</td>\n",
       "      <td>-0.459</td>\n",
       "      <td>NaN</td>\n",
       "      <td>0.395</td>\n",
       "      <td>1.000</td>\n",
       "      <td>NaN</td>\n",
       "      <td>NaN</td>\n",
       "      <td>-0.562</td>\n",
       "      <td>NaN</td>\n",
       "      <td>0.350</td>\n",
       "    </tr>\n",
       "    <tr>\n",
       "      <th>4</th>\n",
       "      <td>9334</td>\n",
       "      <td>21.244</td>\n",
       "      <td>-4.065</td>\n",
       "      <td>NaN</td>\n",
       "      <td>-0.823</td>\n",
       "      <td>-0.991</td>\n",
       "      <td>-0.168</td>\n",
       "      <td>-0.125</td>\n",
       "      <td>-0.096</td>\n",
       "      <td>-0.343</td>\n",
       "      <td>NaN</td>\n",
       "      <td>0.314</td>\n",
       "      <td>-0.024</td>\n",
       "      <td>-0.321</td>\n",
       "      <td>NaN</td>\n",
       "    </tr>\n",
       "  </tbody>\n",
       "</table>\n",
       "</div>"
      ],
      "text/plain": [
       "      id      x0      x2     x3     x4     x5     x6     x7     x8     x9  \\\n",
       "0   6976     NaN     NaN -0.085  1.515    NaN -3.207 -0.492    NaN    NaN   \n",
       "1  11281  20.933  -3.532    NaN -0.577 -0.574    NaN  0.374    NaN    NaN   \n",
       "2   8387  -4.319  19.723 -1.067    NaN    NaN    NaN -0.351  0.648  0.158   \n",
       "3   1320  -3.867  19.948    NaN  0.176  0.670 -0.459    NaN  0.395  1.000   \n",
       "4   9334  21.244  -4.065    NaN -0.823 -0.991 -0.168 -0.125 -0.096 -0.343   \n",
       "\n",
       "     x10    x11    x12    x13    x14  \n",
       "0 -0.663    NaN -0.290    NaN  0.746  \n",
       "1 -0.481  0.073 -0.942  0.185  0.502  \n",
       "2  0.415 -0.530 -0.213  0.084  0.329  \n",
       "3    NaN    NaN -0.562    NaN  0.350  \n",
       "4    NaN  0.314 -0.024 -0.321    NaN  "
      ]
     },
     "execution_count": 32,
     "metadata": {},
     "output_type": "execute_result"
    }
   ],
   "source": [
    "# 讀入測試資料檔案\n",
    "df2 = pd.read_csv(testfile)\n",
    "df2 = df2.drop('x1', axis=1)\n",
    "df2[0:5]"
   ]
  },
  {
   "cell_type": "code",
   "execution_count": 33,
   "id": "8aeda8f1-ba79-4f48-8ed2-64b9a6cb9040",
   "metadata": {
    "id": "8aeda8f1-ba79-4f48-8ed2-64b9a6cb9040",
    "tags": []
   },
   "outputs": [],
   "source": [
    "# 取用測試檔案的 features\n",
    "features2 = df2[features_list]\n",
    "# 假設測試檔案包含正確答案\n",
    "# target2 = df2[targets]"
   ]
  },
  {
   "cell_type": "code",
   "execution_count": 34,
   "id": "587cf2ed",
   "metadata": {},
   "outputs": [],
   "source": [
    "\n",
    "# 假設 features2 是你的測試數據\n",
    "# 檢查 features2 中是否有 NaN 或無窮大的數值\n",
    "if not np.all(np.isfinite(features2)):\n",
    "    # 如果有，使用 SimpleImputer 來填充這些值\n",
    "    imp = SimpleImputer(strategy=\"mean\")\n",
    "    features2 = imp.fit_transform(features2)\n",
    "\n",
    "# 現在你可以安全地使用 features2 進行後續操作\n"
   ]
  },
  {
   "cell_type": "code",
   "execution_count": 35,
   "id": "9c96ed6b",
   "metadata": {},
   "outputs": [],
   "source": [
    "# 假設 imp 是已經用訓練資料集 fit 過的 SimpleImputer 實例\n",
    "# features2 是你要轉換的新資料集，它應該是一個 DataFrame 而不是 numpy array\n",
    "\n",
    "# 確保 features2 是一個 DataFrame 並且包含特徵名稱\n",
    "features2 = pd.DataFrame(features2, columns=imp.feature_names_in_)\n",
    "\n",
    "# 現在你可以使用 imp 來轉換 features2 而不會收到警告訊息\n",
    "features2 = imp.transform(features2)\n"
   ]
  },
  {
   "cell_type": "code",
   "execution_count": 36,
   "id": "7bc8c78e-9a30-489b-aedc-d553facfa48a",
   "metadata": {
    "id": "7bc8c78e-9a30-489b-aedc-d553facfa48a",
    "outputId": "6789f36f-e33e-4e76-db3e-f2ea8d064a42",
    "scrolled": true,
    "tags": []
   },
   "outputs": [],
   "source": [
    "# 印出測試資料的預測類別\n",
    "# 可以整理這裡的輸出上傳到 kaggle\n",
    "# 使用 SelectFromModel 來選擇測試資料的特徵\n",
    "features2 = sel.transform(features2)\n",
    "pred = grid_search.predict(features2)\n",
    "df = pd.DataFrame(pred, columns=['label'])\n",
    "# 將 DataFrame 寫入 CSV 檔案\n",
    "df.to_csv('sample_submission.csv', index=True, index_label='id')"
   ]
  },
  {
   "cell_type": "code",
   "execution_count": null,
   "id": "e583a5de-d060-46d5-830f-a3c52d8ea810",
   "metadata": {
    "id": "e583a5de-d060-46d5-830f-a3c52d8ea810",
    "outputId": "9a30abf0-ddb8-4b64-f4e8-b2c52abf4781",
    "tags": []
   },
   "outputs": [],
   "source": [
    "# 如果測試檔案內涵正確答案，直接計算分類結果的 accuracy\n",
    "clf.score(features2, target2)"
   ]
  },
  {
   "cell_type": "code",
   "execution_count": null,
   "id": "b8f45b5f",
   "metadata": {},
   "outputs": [],
   "source": []
  }
 ],
 "metadata": {
  "colab": {
   "provenance": []
  },
  "kernelspec": {
   "display_name": "Python 3 (ipykernel)",
   "language": "python",
   "name": "python3"
  },
  "language_info": {
   "codemirror_mode": {
    "name": "ipython",
    "version": 3
   },
   "file_extension": ".py",
   "mimetype": "text/x-python",
   "name": "python",
   "nbconvert_exporter": "python",
   "pygments_lexer": "ipython3",
   "version": "3.11.5"
  }
 },
 "nbformat": 4,
 "nbformat_minor": 5
}

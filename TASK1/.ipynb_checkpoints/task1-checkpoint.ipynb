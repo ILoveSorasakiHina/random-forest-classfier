{
 "cells": [
  {
   "cell_type": "markdown",
   "id": "f9218c38-c997-4e57-8776-f7126abdd81d",
   "metadata": {
    "id": "f9218c38-c997-4e57-8776-f7126abdd81d"
   },
   "source": [
    "### National Chengchi University\n",
    "### Department of Computer Science\n",
    "### Introduction to Machine Learning\n",
    "#### Term Project 2023\n",
    "#### Simple Example\n",
    "####\n",
    "#### prepared by Chao-Lin Liu\n",
    "#### Date: 22 November 2023"
   ]
  },
  {
   "cell_type": "code",
   "execution_count": 2,
   "id": "c0cc2bbf-0aa4-4384-8c95-0a3d150065c7",
   "metadata": {
    "id": "c0cc2bbf-0aa4-4384-8c95-0a3d150065c7"
   },
   "outputs": [],
   "source": [
    "# 參考網址：https://scikit-learn.org/stable/modules/tree.html\n",
    "# 參考網址：https://scikit-learn.org/stable/modules/generated/sklearn.tree.DecisionTreeClassifier.html"
   ]
  },
  {
   "cell_type": "code",
   "execution_count": 8,
   "id": "ef1602db-df07-4f8f-93a4-1cbe57d2f71e",
   "metadata": {
    "id": "ef1602db-df07-4f8f-93a4-1cbe57d2f71e"
   },
   "outputs": [],
   "source": [
    "# !pip install scikit-learn"
   ]
  },
  {
   "cell_type": "code",
   "execution_count": 1,
   "id": "13438c57-a2b8-4fe5-8072-6e1d16423e51",
   "metadata": {
    "id": "13438c57-a2b8-4fe5-8072-6e1d16423e51"
   },
   "outputs": [],
   "source": [
    "import pandas as pd\n",
    "from sklearn.ensemble import RandomForestClassifier\n",
    "from sklearn.model_selection import GridSearchCV\n",
    "from sklearn.impute import SimpleImputer\n",
    "from imblearn.over_sampling import SMOTE"
   ]
  },
  {
   "cell_type": "code",
   "execution_count": 2,
   "id": "b244f6f0-b23b-483b-8c32-989f7daa46ea",
   "metadata": {
    "id": "b244f6f0-b23b-483b-8c32-989f7daa46ea",
    "tags": []
   },
   "outputs": [],
   "source": [
    "trainfile = 'training_data.csv'\n",
    "testfile = 'testing_data.csv'\n",
    "# testanswers = 'test_nov28_task1_features_answers.csv'"
   ]
  },
  {
   "cell_type": "code",
   "execution_count": 3,
   "id": "1100dfe7-61b1-404f-8e97-ba9aa63f55b1",
   "metadata": {
    "id": "1100dfe7-61b1-404f-8e97-ba9aa63f55b1",
    "outputId": "6eafffda-baeb-407f-b98a-9b4cb8cabc44",
    "scrolled": true,
    "tags": []
   },
   "outputs": [
    {
     "data": {
      "text/html": [
       "<div>\n",
       "<style scoped>\n",
       "    .dataframe tbody tr th:only-of-type {\n",
       "        vertical-align: middle;\n",
       "    }\n",
       "\n",
       "    .dataframe tbody tr th {\n",
       "        vertical-align: top;\n",
       "    }\n",
       "\n",
       "    .dataframe thead th {\n",
       "        text-align: right;\n",
       "    }\n",
       "</style>\n",
       "<table border=\"1\" class=\"dataframe\">\n",
       "  <thead>\n",
       "    <tr style=\"text-align: right;\">\n",
       "      <th></th>\n",
       "      <th>id</th>\n",
       "      <th>0</th>\n",
       "      <th>1</th>\n",
       "      <th>2</th>\n",
       "      <th>3</th>\n",
       "      <th>4</th>\n",
       "      <th>5</th>\n",
       "      <th>6</th>\n",
       "      <th>7</th>\n",
       "      <th>label</th>\n",
       "    </tr>\n",
       "  </thead>\n",
       "  <tbody>\n",
       "    <tr>\n",
       "      <th>0</th>\n",
       "      <td>0</td>\n",
       "      <td>0.001531</td>\n",
       "      <td>0.001071</td>\n",
       "      <td>0.001098</td>\n",
       "      <td>0.008285</td>\n",
       "      <td>0.006944</td>\n",
       "      <td>0.000000</td>\n",
       "      <td>0.007447</td>\n",
       "      <td>0.006268</td>\n",
       "      <td>1</td>\n",
       "    </tr>\n",
       "    <tr>\n",
       "      <th>1</th>\n",
       "      <td>1</td>\n",
       "      <td>0.001659</td>\n",
       "      <td>0.002180</td>\n",
       "      <td>0.009785</td>\n",
       "      <td>0.006185</td>\n",
       "      <td>0.005152</td>\n",
       "      <td>0.022569</td>\n",
       "      <td>0.005884</td>\n",
       "      <td>0.009573</td>\n",
       "      <td>0</td>\n",
       "    </tr>\n",
       "    <tr>\n",
       "      <th>2</th>\n",
       "      <td>2</td>\n",
       "      <td>0.001079</td>\n",
       "      <td>0.000783</td>\n",
       "      <td>0.000693</td>\n",
       "      <td>0.000934</td>\n",
       "      <td>0.013537</td>\n",
       "      <td>0.001101</td>\n",
       "      <td>0.006628</td>\n",
       "      <td>0.003989</td>\n",
       "      <td>0</td>\n",
       "    </tr>\n",
       "    <tr>\n",
       "      <th>3</th>\n",
       "      <td>3</td>\n",
       "      <td>0.002141</td>\n",
       "      <td>0.002553</td>\n",
       "      <td>0.000270</td>\n",
       "      <td>0.010502</td>\n",
       "      <td>0.003546</td>\n",
       "      <td>0.000000</td>\n",
       "      <td>0.007447</td>\n",
       "      <td>0.011396</td>\n",
       "      <td>1</td>\n",
       "    </tr>\n",
       "    <tr>\n",
       "      <th>4</th>\n",
       "      <td>4</td>\n",
       "      <td>0.001176</td>\n",
       "      <td>0.000451</td>\n",
       "      <td>0.002146</td>\n",
       "      <td>0.011669</td>\n",
       "      <td>0.001090</td>\n",
       "      <td>0.000000</td>\n",
       "      <td>0.007447</td>\n",
       "      <td>0.000000</td>\n",
       "      <td>1</td>\n",
       "    </tr>\n",
       "  </tbody>\n",
       "</table>\n",
       "</div>"
      ],
      "text/plain": [
       "   id         0         1         2         3         4         5         6  \\\n",
       "0   0  0.001531  0.001071  0.001098  0.008285  0.006944  0.000000  0.007447   \n",
       "1   1  0.001659  0.002180  0.009785  0.006185  0.005152  0.022569  0.005884   \n",
       "2   2  0.001079  0.000783  0.000693  0.000934  0.013537  0.001101  0.006628   \n",
       "3   3  0.002141  0.002553  0.000270  0.010502  0.003546  0.000000  0.007447   \n",
       "4   4  0.001176  0.000451  0.002146  0.011669  0.001090  0.000000  0.007447   \n",
       "\n",
       "          7  label  \n",
       "0  0.006268      1  \n",
       "1  0.009573      0  \n",
       "2  0.003989      0  \n",
       "3  0.011396      1  \n",
       "4  0.000000      1  "
      ]
     },
     "execution_count": 3,
     "metadata": {},
     "output_type": "execute_result"
    }
   ],
   "source": [
    "# 讀入訓練資料檔案\n",
    "df = pd.read_csv(trainfile)\n",
    "df[0:5]"
   ]
  },
  {
   "cell_type": "code",
   "execution_count": 4,
   "id": "ad78c2d9-7f9f-403c-bbe0-857ae465a823",
   "metadata": {
    "id": "ad78c2d9-7f9f-403c-bbe0-857ae465a823",
    "outputId": "6e3fd42a-b41e-4693-8d92-714ed5e18716",
    "tags": []
   },
   "outputs": [
    {
     "data": {
      "text/html": [
       "<div>\n",
       "<style scoped>\n",
       "    .dataframe tbody tr th:only-of-type {\n",
       "        vertical-align: middle;\n",
       "    }\n",
       "\n",
       "    .dataframe tbody tr th {\n",
       "        vertical-align: top;\n",
       "    }\n",
       "\n",
       "    .dataframe thead th {\n",
       "        text-align: right;\n",
       "    }\n",
       "</style>\n",
       "<table border=\"1\" class=\"dataframe\">\n",
       "  <thead>\n",
       "    <tr style=\"text-align: right;\">\n",
       "      <th></th>\n",
       "      <th>0</th>\n",
       "      <th>1</th>\n",
       "      <th>2</th>\n",
       "      <th>3</th>\n",
       "      <th>4</th>\n",
       "      <th>5</th>\n",
       "      <th>6</th>\n",
       "      <th>7</th>\n",
       "    </tr>\n",
       "  </thead>\n",
       "  <tbody>\n",
       "    <tr>\n",
       "      <th>0</th>\n",
       "      <td>0.001531</td>\n",
       "      <td>0.001071</td>\n",
       "      <td>0.001098</td>\n",
       "      <td>0.008285</td>\n",
       "      <td>0.006944</td>\n",
       "      <td>0.000000</td>\n",
       "      <td>0.007447</td>\n",
       "      <td>0.006268</td>\n",
       "    </tr>\n",
       "    <tr>\n",
       "      <th>1</th>\n",
       "      <td>0.001659</td>\n",
       "      <td>0.002180</td>\n",
       "      <td>0.009785</td>\n",
       "      <td>0.006185</td>\n",
       "      <td>0.005152</td>\n",
       "      <td>0.022569</td>\n",
       "      <td>0.005884</td>\n",
       "      <td>0.009573</td>\n",
       "    </tr>\n",
       "    <tr>\n",
       "      <th>2</th>\n",
       "      <td>0.001079</td>\n",
       "      <td>0.000783</td>\n",
       "      <td>0.000693</td>\n",
       "      <td>0.000934</td>\n",
       "      <td>0.013537</td>\n",
       "      <td>0.001101</td>\n",
       "      <td>0.006628</td>\n",
       "      <td>0.003989</td>\n",
       "    </tr>\n",
       "    <tr>\n",
       "      <th>3</th>\n",
       "      <td>0.002141</td>\n",
       "      <td>0.002553</td>\n",
       "      <td>0.000270</td>\n",
       "      <td>0.010502</td>\n",
       "      <td>0.003546</td>\n",
       "      <td>0.000000</td>\n",
       "      <td>0.007447</td>\n",
       "      <td>0.011396</td>\n",
       "    </tr>\n",
       "    <tr>\n",
       "      <th>4</th>\n",
       "      <td>0.001176</td>\n",
       "      <td>0.000451</td>\n",
       "      <td>0.002146</td>\n",
       "      <td>0.011669</td>\n",
       "      <td>0.001090</td>\n",
       "      <td>0.000000</td>\n",
       "      <td>0.007447</td>\n",
       "      <td>0.000000</td>\n",
       "    </tr>\n",
       "  </tbody>\n",
       "</table>\n",
       "</div>"
      ],
      "text/plain": [
       "          0         1         2         3         4         5         6  \\\n",
       "0  0.001531  0.001071  0.001098  0.008285  0.006944  0.000000  0.007447   \n",
       "1  0.001659  0.002180  0.009785  0.006185  0.005152  0.022569  0.005884   \n",
       "2  0.001079  0.000783  0.000693  0.000934  0.013537  0.001101  0.006628   \n",
       "3  0.002141  0.002553  0.000270  0.010502  0.003546  0.000000  0.007447   \n",
       "4  0.001176  0.000451  0.002146  0.011669  0.001090  0.000000  0.007447   \n",
       "\n",
       "          7  \n",
       "0  0.006268  \n",
       "1  0.009573  \n",
       "2  0.003989  \n",
       "3  0.011396  \n",
       "4  0.000000  "
      ]
     },
     "execution_count": 4,
     "metadata": {},
     "output_type": "execute_result"
    }
   ],
   "source": [
    "# 取用 features\n",
    "features_list = ['0','1','2','3','4','5','6','7']\n",
    "features = df[features_list]\n",
    "features[0:5]"
   ]
  },
  {
   "cell_type": "code",
   "execution_count": 5,
   "id": "a1ab2442-cc81-40df-a9c7-0764a8291b2f",
   "metadata": {
    "id": "a1ab2442-cc81-40df-a9c7-0764a8291b2f",
    "tags": []
   },
   "outputs": [],
   "source": [
    "# 取用 答案類別\n",
    "targets = ['label']\n",
    "labels = df[targets]"
   ]
  },
  {
   "cell_type": "code",
   "execution_count": 6,
   "id": "177bda0c-b3cf-440b-a876-aaf80a72b263",
   "metadata": {
    "id": "177bda0c-b3cf-440b-a876-aaf80a72b263",
    "tags": []
   },
   "outputs": [],
   "source": [
    "# 使用隨機森林分類器\n",
    "clf = RandomForestClassifier(n_estimators=100)\n"
   ]
  },
  {
   "cell_type": "code",
   "execution_count": 7,
   "id": "9964b6bb",
   "metadata": {},
   "outputs": [],
   "source": [
    "# 設定要調整的參數\n",
    "param_grid = {\n",
    "    'n_estimators': [50, 100, 200],\n",
    "    'max_depth': [None, 10, 20, 30],\n",
    "}\n"
   ]
  },
  {
   "cell_type": "code",
   "execution_count": null,
   "id": "793bbb20",
   "metadata": {
    "scrolled": true
   },
   "outputs": [
    {
     "name": "stderr",
     "output_type": "stream",
     "text": [
      "C:\\Users\\jason\\anaconda3\\Lib\\site-packages\\sklearn\\base.py:1151: DataConversionWarning: A column-vector y was passed when a 1d array was expected. Please change the shape of y to (n_samples,), for example using ravel().\n",
      "  return fit_method(estimator, *args, **kwargs)\n"
     ]
    }
   ],
   "source": [
    "# 使用 GridSearchCV 進行參數調整\n",
    "grid_search = GridSearchCV(clf, param_grid, cv=5)\n",
    "grid_search.fit(features, labels)\n"
   ]
  },
  {
   "cell_type": "code",
   "execution_count": null,
   "id": "84200df1",
   "metadata": {},
   "outputs": [],
   "source": [
    "# 使用最佳參數的模型\n",
    "clf = grid_search.best_estimator_"
   ]
  },
  {
   "cell_type": "code",
   "execution_count": 16,
   "id": "22f6f420-fcc6-4c07-8273-8646d29b8f41",
   "metadata": {
    "id": "22f6f420-fcc6-4c07-8273-8646d29b8f41",
    "tags": []
   },
   "outputs": [
    {
     "data": {
      "text/html": [
       "<div>\n",
       "<style scoped>\n",
       "    .dataframe tbody tr th:only-of-type {\n",
       "        vertical-align: middle;\n",
       "    }\n",
       "\n",
       "    .dataframe tbody tr th {\n",
       "        vertical-align: top;\n",
       "    }\n",
       "\n",
       "    .dataframe thead th {\n",
       "        text-align: right;\n",
       "    }\n",
       "</style>\n",
       "<table border=\"1\" class=\"dataframe\">\n",
       "  <thead>\n",
       "    <tr style=\"text-align: right;\">\n",
       "      <th></th>\n",
       "      <th>id</th>\n",
       "      <th>0</th>\n",
       "      <th>1</th>\n",
       "      <th>2</th>\n",
       "      <th>3</th>\n",
       "      <th>4</th>\n",
       "      <th>5</th>\n",
       "      <th>6</th>\n",
       "      <th>7</th>\n",
       "    </tr>\n",
       "  </thead>\n",
       "  <tbody>\n",
       "    <tr>\n",
       "      <th>0</th>\n",
       "      <td>0</td>\n",
       "      <td>0.002474</td>\n",
       "      <td>0.003941</td>\n",
       "      <td>0.002417</td>\n",
       "      <td>0.000817</td>\n",
       "      <td>0.014571</td>\n",
       "      <td>0.000000</td>\n",
       "      <td>0.004137</td>\n",
       "      <td>0.000000</td>\n",
       "    </tr>\n",
       "    <tr>\n",
       "      <th>1</th>\n",
       "      <td>1</td>\n",
       "      <td>0.000348</td>\n",
       "      <td>0.000152</td>\n",
       "      <td>0.009092</td>\n",
       "      <td>0.000934</td>\n",
       "      <td>0.002622</td>\n",
       "      <td>0.000000</td>\n",
       "      <td>0.007447</td>\n",
       "      <td>0.000000</td>\n",
       "    </tr>\n",
       "    <tr>\n",
       "      <th>2</th>\n",
       "      <td>2</td>\n",
       "      <td>0.003848</td>\n",
       "      <td>0.003165</td>\n",
       "      <td>0.004377</td>\n",
       "      <td>0.004784</td>\n",
       "      <td>0.006667</td>\n",
       "      <td>0.007927</td>\n",
       "      <td>0.007199</td>\n",
       "      <td>0.007180</td>\n",
       "    </tr>\n",
       "    <tr>\n",
       "      <th>3</th>\n",
       "      <td>3</td>\n",
       "      <td>0.002541</td>\n",
       "      <td>0.005478</td>\n",
       "      <td>0.002653</td>\n",
       "      <td>0.001517</td>\n",
       "      <td>0.008643</td>\n",
       "      <td>0.017725</td>\n",
       "      <td>0.004799</td>\n",
       "      <td>0.004103</td>\n",
       "    </tr>\n",
       "    <tr>\n",
       "      <th>4</th>\n",
       "      <td>4</td>\n",
       "      <td>0.002589</td>\n",
       "      <td>0.003912</td>\n",
       "      <td>0.001994</td>\n",
       "      <td>0.002801</td>\n",
       "      <td>0.002179</td>\n",
       "      <td>0.000000</td>\n",
       "      <td>0.007447</td>\n",
       "      <td>0.011396</td>\n",
       "    </tr>\n",
       "  </tbody>\n",
       "</table>\n",
       "</div>"
      ],
      "text/plain": [
       "   id         0         1         2         3         4         5         6  \\\n",
       "0   0  0.002474  0.003941  0.002417  0.000817  0.014571  0.000000  0.004137   \n",
       "1   1  0.000348  0.000152  0.009092  0.000934  0.002622  0.000000  0.007447   \n",
       "2   2  0.003848  0.003165  0.004377  0.004784  0.006667  0.007927  0.007199   \n",
       "3   3  0.002541  0.005478  0.002653  0.001517  0.008643  0.017725  0.004799   \n",
       "4   4  0.002589  0.003912  0.001994  0.002801  0.002179  0.000000  0.007447   \n",
       "\n",
       "          7  \n",
       "0  0.000000  \n",
       "1  0.000000  \n",
       "2  0.007180  \n",
       "3  0.004103  \n",
       "4  0.011396  "
      ]
     },
     "execution_count": 16,
     "metadata": {},
     "output_type": "execute_result"
    }
   ],
   "source": [
    "# 讀入測試資料檔案\n",
    "df2 = pd.read_csv(testfile)\n",
    "df2[0:5]"
   ]
  },
  {
   "cell_type": "code",
   "execution_count": 17,
   "id": "8aeda8f1-ba79-4f48-8ed2-64b9a6cb9040",
   "metadata": {
    "id": "8aeda8f1-ba79-4f48-8ed2-64b9a6cb9040",
    "tags": []
   },
   "outputs": [],
   "source": [
    "# 取用測試檔案的 features\n",
    "features2 = df2[features_list]\n",
    "# 假設測試檔案包含正確答案\n",
    "# target2 = df2[targets]"
   ]
  },
  {
   "cell_type": "code",
   "execution_count": 18,
   "id": "7bc8c78e-9a30-489b-aedc-d553facfa48a",
   "metadata": {
    "id": "7bc8c78e-9a30-489b-aedc-d553facfa48a",
    "outputId": "6789f36f-e33e-4e76-db3e-f2ea8d064a42",
    "tags": []
   },
   "outputs": [],
   "source": [
    "# 印出測試資料的預測類別\n",
    "# 可以整理這裡的輸出上傳到 kaggle\n",
    "pred=clf.predict(features2)\n",
    "df = pd.DataFrame(pred, columns=['label'])\n",
    "# 將 DataFrame 寫入 CSV 檔案\n",
    "df.to_csv('sample_submission.csv', index=True, index_label='id')"
   ]
  },
  {
   "cell_type": "code",
   "execution_count": null,
   "id": "e583a5de-d060-46d5-830f-a3c52d8ea810",
   "metadata": {
    "id": "e583a5de-d060-46d5-830f-a3c52d8ea810",
    "outputId": "9a30abf0-ddb8-4b64-f4e8-b2c52abf4781",
    "tags": []
   },
   "outputs": [],
   "source": [
    "# 如果測試檔案內涵正確答案，直接計算分類結果的 accuracy\n",
    "clf.score(features2, target2)"
   ]
  },
  {
   "cell_type": "code",
   "execution_count": null,
   "id": "b8f45b5f",
   "metadata": {},
   "outputs": [],
   "source": []
  }
 ],
 "metadata": {
  "colab": {
   "provenance": []
  },
  "kernelspec": {
   "display_name": "Python 3 (ipykernel)",
   "language": "python",
   "name": "python3"
  },
  "language_info": {
   "codemirror_mode": {
    "name": "ipython",
    "version": 3
   },
   "file_extension": ".py",
   "mimetype": "text/x-python",
   "name": "python",
   "nbconvert_exporter": "python",
   "pygments_lexer": "ipython3",
   "version": "3.11.5"
  }
 },
 "nbformat": 4,
 "nbformat_minor": 5
}
